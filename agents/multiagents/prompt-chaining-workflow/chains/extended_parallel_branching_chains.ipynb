{
  "nbformat": 4,
  "nbformat_minor": 0,
  "metadata": {
    "colab": {
      "provenance": []
    },
    "kernelspec": {
      "name": "python3",
      "display_name": "Python 3"
    },
    "language_info": {
      "name": "python"
    }
  },
  "cells": [
    {
      "cell_type": "code",
      "execution_count": null,
      "metadata": {
        "colab": {
          "base_uri": "https://localhost:8080/"
        },
        "id": "M_pSMPvrC5rF",
        "outputId": "6a647bce-335e-472f-804f-e07fd3045d91"
      },
      "outputs": [
        {
          "output_type": "stream",
          "name": "stdout",
          "text": [
            "Extended Chain:  creation\n",
            "\n",
            "However, there are also some challenges that come with the use of AI in content creation. One of the main challenges is ensuring the accuracy and relevance of the generated content. Since AI relies on data and algorithms, there is a risk of biased or inaccurate content being created. This can be especially problematic for sensitive topics or target audiences. Additionally, there is a concern that AI could eventually replace human creativity and originality in content creation. Striking a balance between utilizing AI for efficiency and maintaining human touch in content is an ongoing challenge for creators and marketers. Overall, while AI offers great potential for content creation, it is important to carefully consider and address these challenges in order to truly harness its benefits.\n",
            "Parallel Chain: [' and Challenges\\n\\nAI technology has greatly impacted the world of content creation, allowing for faster and more efficient processes. However, with this advancement comes challenges such as maintaining human creativity and dealing with ethical concerns. As AI continues to evolve, it is important for content creators to stay informed on the latest trends and potential challenges in order to utilize this technology effectively.', ' and Techniques\\n\\nAI has revolutionized the content creation industry with its advanced tools and techniques. From automated writing software to natural language processing, AI has enabled content creators to generate high-quality content at a faster pace. With the use of machine learning algorithms, AI can analyze data and user behavior to create personalized and engaging content. It also offers tools for content optimization, including SEO keyword suggestions and content performance tracking. As technology continues to advance, we can expect AI to play an even bigger role in content creation, making it more efficient, effective, and personalized. ', '\\n\\nAI in content creation has raised many ethical concerns. With the advancement of technology, AI-powered tools have become more sophisticated and are now capable of generating text, images, and videos that are virtually indistinguishable from human-created content. This has led to questions around ownership, plagiarism, and authenticity, as well as the potential for biased or misleading information to be generated. As AI continues to play a larger role in content creation, it is important for content creators to consider the ethical implications and ensure that their use of AI is responsible and transparent.']\n",
            "Branching Chain: :\n",
            "\n",
            "\"Have you ever read an article or watched a video and thought, 'Wow, this is really well-written/produced'? Chances are, AI had a hand in creating it! 🤖📝🎥\n",
            "\n",
            "That's right, artificial intelligence is revolutionizing the way content is created. From generating catchy headlines to editing and perfecting the final product, AI is making content creation faster, more efficient, and more engaging than ever before. 🚀\n",
            "\n",
            "So the next time you come across a thought-provoking blog post or a visually stunning video, remember to thank AI for its contributions. 🙌 #AI #ContentCreation #Innovation\" \n"
          ]
        }
      ],
      "source": [
        "!pip install -q langchain-openai langchain\n",
        "\n",
        "from google.colab import userdata\n",
        "from langchain_openai import OpenAI\n",
        "from langchain.prompts import PromptTemplate\n",
        "from langchain.chains import LLMChain\n",
        "from langchain_core.runnables import RunnablePassthrough\n",
        "from string import Template\n",
        "\n",
        "# Set your OpenAI key\n",
        "OPENAI_API_KEY = userdata.get(\"OpenAI-key\")\n",
        "\n",
        "# Initialize OpenAI model with API key\n",
        "llm = OpenAI(api_key=OPENAI_API_KEY, temperature=0.7)\n",
        "\n",
        "# Helper Functions\n",
        "def generate_content_snippet(topic):\n",
        "    prompt = f\"Write a short content snippet about: {topic}\"\n",
        "    return llm.invoke(prompt)\n",
        "\n",
        "def analyze_content(content):\n",
        "    prompt = f\"Analyze the following content for tone and key points: {content}\"\n",
        "    return llm.invoke(prompt)\n",
        "\n",
        "def classify_content_task(task):\n",
        "    if \"blog\" in task.lower():\n",
        "        return \"blog\"\n",
        "    elif \"social\" in task.lower():\n",
        "        return \"social\"\n",
        "    else:\n",
        "        return \"general\"\n",
        "\n",
        "# Extended Chain Example (Sequential with Context - AI in Content Creation)\n",
        "def extended_chain_example(initial_topic, follow_up_task):\n",
        "    snippet1 = generate_content_snippet(initial_topic)\n",
        "    analysis = analyze_content(snippet1)\n",
        "    prompt2 = Template(f\"Given this analysis: {analysis}, write a follow up paragraph about: {follow_up_task}\")\n",
        "    snippet2 = llm.invoke(prompt2.substitute())\n",
        "    return snippet2\n",
        "\n",
        "# Parallel Chain Example (Concurrent Execution - AI in Content Creation)\n",
        "def parallel_chain_example(topics):\n",
        "    snippets = [generate_content_snippet(topic) for topic in topics]\n",
        "    return snippets\n",
        "\n",
        "# Branching Chain Example (Conditional Execution - AI in Content Creation)\n",
        "def branching_chain_example(task):\n",
        "    content_type = classify_content_task(task)\n",
        "\n",
        "    if content_type == \"blog\":\n",
        "        prompt = \"Write a blog post about AI in content creation\"\n",
        "    elif content_type == \"social\":\n",
        "        prompt = \"Write a social media post about AI in content creation\"\n",
        "    else:\n",
        "        prompt = \"Write general content about AI in content creation\"\n",
        "\n",
        "    prompt_template = PromptTemplate(input_variables=[\"task\"], template=f\"{prompt}: {task}\")\n",
        "    chain = prompt_template | llm\n",
        "    return chain.invoke({\"task\": task})\n",
        "\n",
        "# Examples\n",
        "initial_topic = \"AI in Content Creation: Benefits\"\n",
        "follow_up_task = \"Challenges of AI content\"\n",
        "print(\"Extended Chain:\", extended_chain_example(initial_topic, follow_up_task))\n",
        "\n",
        "topics = [\"AI in Content Creation: Trends\", \"AI in Content Creation: Tools\", \"AI in Content Creation: Ethics\"]\n",
        "print(\"Parallel Chain:\", parallel_chain_example(topics))\n",
        "\n",
        "task = \"Write a social media post about AI in content creation\"\n",
        "print(\"Branching Chain:\", branching_chain_example(task))"
      ]
    }
  ]
}