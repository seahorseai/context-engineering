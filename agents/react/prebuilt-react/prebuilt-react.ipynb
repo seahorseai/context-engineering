{
 "cells": [
  {
   "cell_type": "code",
   "execution_count": null,
   "id": "1f3328da",
   "metadata": {
    "vscode": {
     "languageId": "plaintext"
    }
   },
   "outputs": [],
   "source": [
    "# simple_react_agent.py\n",
    "from langchain_core.tools import tool\n",
    "from langgraph.prebuilt import create_react_agent\n",
    "from langchain_openai import ChatOpenAI\n",
    "\n",
    "# ---- Define Tools ----\n",
    "@tool\n",
    "def multiply(a: int, b: int) -> int:\n",
    "    \"\"\"Multiply two integers.\"\"\"\n",
    "    return a * b\n",
    "\n",
    "@tool\n",
    "def divide(a: int, b: int) -> float:\n",
    "    \"\"\"Divide a by b.\"\"\"\n",
    "    if b == 0:\n",
    "        return \"Error: Division by zero\"\n",
    "    return a / b\n",
    "\n",
    "tools = [multiply, divide]\n",
    "\n",
    "# ---- LLM ----\n",
    "llm = ChatOpenAI(model=\"gpt-4o-mini\")  # or any model you prefer\n",
    "\n",
    "# ---- Create ReAct Agent ----\n",
    "agent = create_react_agent(llm, tools)\n",
    "\n",
    "# ---- Run Example ----\n",
    "if __name__ == \"__main__\":\n",
    "    inputs = {\"messages\": [(\"user\", \"What is (5 * 6) / 3 ?\")]}\n",
    "    result = agent.invoke(inputs)\n",
    "    print(result[\"messages\"][-1].content)\n"
   ]
  }
 ],
 "metadata": {
  "language_info": {
   "name": "python"
  }
 },
 "nbformat": 4,
 "nbformat_minor": 5
}
