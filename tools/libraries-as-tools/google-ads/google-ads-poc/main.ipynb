{
 "cells": [
  {
   "cell_type": "code",
   "execution_count": 1,
   "id": "aeaedc71",
   "metadata": {},
   "outputs": [
    {
     "name": "stdout",
     "output_type": "stream",
     "text": [
      "Requirement already satisfied: google-ads in ./.venv/lib/python3.13/site-packages (from -r requirements.txt (line 1)) (28.0.0)\n",
      "Requirement already satisfied: pyyaml in ./.venv/lib/python3.13/site-packages (from -r requirements.txt (line 2)) (6.0.3)\n",
      "Requirement already satisfied: python-dotenv in ./.venv/lib/python3.13/site-packages (from -r requirements.txt (line 3)) (1.1.1)\n",
      "Requirement already satisfied: google-auth-oauthlib<2.0.0,>=1.0.0 in ./.venv/lib/python3.13/site-packages (from google-ads->-r requirements.txt (line 1)) (1.2.2)\n",
      "Requirement already satisfied: google-api-core<=3.0.0,>=2.13.0 in ./.venv/lib/python3.13/site-packages (from google-ads->-r requirements.txt (line 1)) (2.26.0)\n",
      "Requirement already satisfied: googleapis-common-protos<2.0.0,>=1.56.3 in ./.venv/lib/python3.13/site-packages (from google-ads->-r requirements.txt (line 1)) (1.70.0)\n",
      "Requirement already satisfied: grpcio<2.0.0,>=1.59.0 in ./.venv/lib/python3.13/site-packages (from google-ads->-r requirements.txt (line 1)) (1.75.1)\n",
      "Requirement already satisfied: grpcio-status<2.0.0,>=1.59.0 in ./.venv/lib/python3.13/site-packages (from google-ads->-r requirements.txt (line 1)) (1.75.1)\n",
      "Requirement already satisfied: proto-plus<2.0.0,>=1.22.3 in ./.venv/lib/python3.13/site-packages (from google-ads->-r requirements.txt (line 1)) (1.26.1)\n",
      "Requirement already satisfied: protobuf<7.0.0,>=4.25.0 in ./.venv/lib/python3.13/site-packages (from google-ads->-r requirements.txt (line 1)) (6.32.1)\n",
      "Requirement already satisfied: google-auth<3.0.0,>=2.14.1 in ./.venv/lib/python3.13/site-packages (from google-api-core<=3.0.0,>=2.13.0->google-ads->-r requirements.txt (line 1)) (2.41.1)\n",
      "Requirement already satisfied: requests<3.0.0,>=2.18.0 in ./.venv/lib/python3.13/site-packages (from google-api-core<=3.0.0,>=2.13.0->google-ads->-r requirements.txt (line 1)) (2.32.5)\n",
      "Requirement already satisfied: cachetools<7.0,>=2.0.0 in ./.venv/lib/python3.13/site-packages (from google-auth<3.0.0,>=2.14.1->google-api-core<=3.0.0,>=2.13.0->google-ads->-r requirements.txt (line 1)) (6.2.1)\n",
      "Requirement already satisfied: pyasn1-modules>=0.2.1 in ./.venv/lib/python3.13/site-packages (from google-auth<3.0.0,>=2.14.1->google-api-core<=3.0.0,>=2.13.0->google-ads->-r requirements.txt (line 1)) (0.4.2)\n",
      "Requirement already satisfied: rsa<5,>=3.1.4 in ./.venv/lib/python3.13/site-packages (from google-auth<3.0.0,>=2.14.1->google-api-core<=3.0.0,>=2.13.0->google-ads->-r requirements.txt (line 1)) (4.9.1)\n",
      "Requirement already satisfied: requests-oauthlib>=0.7.0 in ./.venv/lib/python3.13/site-packages (from google-auth-oauthlib<2.0.0,>=1.0.0->google-ads->-r requirements.txt (line 1)) (2.0.0)\n",
      "Requirement already satisfied: typing-extensions~=4.12 in ./.venv/lib/python3.13/site-packages (from grpcio<2.0.0,>=1.59.0->google-ads->-r requirements.txt (line 1)) (4.15.0)\n",
      "Requirement already satisfied: charset_normalizer<4,>=2 in ./.venv/lib/python3.13/site-packages (from requests<3.0.0,>=2.18.0->google-api-core<=3.0.0,>=2.13.0->google-ads->-r requirements.txt (line 1)) (3.4.4)\n",
      "Requirement already satisfied: idna<4,>=2.5 in ./.venv/lib/python3.13/site-packages (from requests<3.0.0,>=2.18.0->google-api-core<=3.0.0,>=2.13.0->google-ads->-r requirements.txt (line 1)) (3.11)\n",
      "Requirement already satisfied: urllib3<3,>=1.21.1 in ./.venv/lib/python3.13/site-packages (from requests<3.0.0,>=2.18.0->google-api-core<=3.0.0,>=2.13.0->google-ads->-r requirements.txt (line 1)) (2.5.0)\n",
      "Requirement already satisfied: certifi>=2017.4.17 in ./.venv/lib/python3.13/site-packages (from requests<3.0.0,>=2.18.0->google-api-core<=3.0.0,>=2.13.0->google-ads->-r requirements.txt (line 1)) (2025.10.5)\n",
      "Requirement already satisfied: pyasn1>=0.1.3 in ./.venv/lib/python3.13/site-packages (from rsa<5,>=3.1.4->google-auth<3.0.0,>=2.14.1->google-api-core<=3.0.0,>=2.13.0->google-ads->-r requirements.txt (line 1)) (0.6.1)\n",
      "Requirement already satisfied: oauthlib>=3.0.0 in ./.venv/lib/python3.13/site-packages (from requests-oauthlib>=0.7.0->google-auth-oauthlib<2.0.0,>=1.0.0->google-ads->-r requirements.txt (line 1)) (3.3.1)\n",
      "Note: you may need to restart the kernel to use updated packages.\n"
     ]
    }
   ],
   "source": [
    "%pip install -r requirements.txt "
   ]
  },
  {
   "cell_type": "code",
   "execution_count": 2,
   "id": "318ac86d",
   "metadata": {},
   "outputs": [
    {
     "ename": "FileNotFoundError",
     "evalue": "[Errno 2] No such file or directory: 'google-ads.yaml'",
     "output_type": "error",
     "traceback": [
      "\u001b[31m---------------------------------------------------------------------------\u001b[39m",
      "\u001b[31mFileNotFoundError\u001b[39m                         Traceback (most recent call last)",
      "\u001b[36mCell\u001b[39m\u001b[36m \u001b[39m\u001b[32mIn[2]\u001b[39m\u001b[32m, line 5\u001b[39m\n\u001b[32m      2\u001b[39m \u001b[38;5;28;01mfrom\u001b[39;00m\u001b[38;5;250m \u001b[39m\u001b[34;01mgoogle\u001b[39;00m\u001b[34;01m.\u001b[39;00m\u001b[34;01mads\u001b[39;00m\u001b[34;01m.\u001b[39;00m\u001b[34;01mgoogleads\u001b[39;00m\u001b[34;01m.\u001b[39;00m\u001b[34;01merrors\u001b[39;00m\u001b[38;5;250m \u001b[39m\u001b[38;5;28;01mimport\u001b[39;00m GoogleAdsException\n\u001b[32m      4\u001b[39m \u001b[38;5;66;03m# Load credentials from google-ads.yaml\u001b[39;00m\n\u001b[32m----> \u001b[39m\u001b[32m5\u001b[39m client = \u001b[43mGoogleAdsClient\u001b[49m\u001b[43m.\u001b[49m\u001b[43mload_from_storage\u001b[49m\u001b[43m(\u001b[49m\u001b[33;43m\"\u001b[39;49m\u001b[33;43mgoogle-ads.yaml\u001b[39;49m\u001b[33;43m\"\u001b[39;49m\u001b[43m)\u001b[49m\n\u001b[32m      7\u001b[39m \u001b[38;5;66;03m# Replace with your Google Ads customer ID\u001b[39;00m\n\u001b[32m      8\u001b[39m customer_id = \u001b[33m\"\u001b[39m\u001b[33mINSERT_CUSTOMER_ID_HERE\u001b[39m\u001b[33m\"\u001b[39m\n",
      "\u001b[36mFile \u001b[39m\u001b[32m~/Documents/tech/ai-libraries/google-ads/google-ads-poc/.venv/lib/python3.13/site-packages/google/ads/googleads/client.py:285\u001b[39m, in \u001b[36mGoogleAdsClient.load_from_storage\u001b[39m\u001b[34m(cls, path, version)\u001b[39m\n\u001b[32m    267\u001b[39m \u001b[38;5;129m@classmethod\u001b[39m\n\u001b[32m    268\u001b[39m \u001b[38;5;28;01mdef\u001b[39;00m\u001b[38;5;250m \u001b[39m\u001b[34mload_from_storage\u001b[39m(\u001b[38;5;28mcls\u001b[39m, path=\u001b[38;5;28;01mNone\u001b[39;00m, version=\u001b[38;5;28;01mNone\u001b[39;00m):\n\u001b[32m    269\u001b[39m \u001b[38;5;250m    \u001b[39m\u001b[33;03m\"\"\"Creates a GoogleAdsClient with data stored in the specified file.\u001b[39;00m\n\u001b[32m    270\u001b[39m \n\u001b[32m    271\u001b[39m \u001b[33;03m    Args:\u001b[39;00m\n\u001b[32m   (...)\u001b[39m\u001b[32m    283\u001b[39m \u001b[33;03m        ValueError: If the configuration file lacks a required field.\u001b[39;00m\n\u001b[32m    284\u001b[39m \u001b[33;03m    \"\"\"\u001b[39;00m\n\u001b[32m--> \u001b[39m\u001b[32m285\u001b[39m     config_data = \u001b[43mconfig\u001b[49m\u001b[43m.\u001b[49m\u001b[43mload_from_yaml_file\u001b[49m\u001b[43m(\u001b[49m\u001b[43mpath\u001b[49m\u001b[43m)\u001b[49m\n\u001b[32m    286\u001b[39m     kwargs = \u001b[38;5;28mcls\u001b[39m._get_client_kwargs(config_data)\n\u001b[32m    287\u001b[39m     \u001b[38;5;28;01mreturn\u001b[39;00m \u001b[38;5;28mcls\u001b[39m(**\u001b[38;5;28mdict\u001b[39m(version=version, **kwargs))\n",
      "\u001b[36mFile \u001b[39m\u001b[32m~/Documents/tech/ai-libraries/google-ads/google-ads-poc/.venv/lib/python3.13/site-packages/google/ads/googleads/config.py:71\u001b[39m, in \u001b[36m_config_validation_decorator.<locals>.validation_wrapper\u001b[39m\u001b[34m(*args, **kwargs)\u001b[39m\n\u001b[32m     69\u001b[39m \u001b[38;5;129m@functools\u001b[39m.wraps(func)\n\u001b[32m     70\u001b[39m \u001b[38;5;28;01mdef\u001b[39;00m\u001b[38;5;250m \u001b[39m\u001b[34mvalidation_wrapper\u001b[39m(*args, **kwargs):\n\u001b[32m---> \u001b[39m\u001b[32m71\u001b[39m     config_dict = \u001b[43mfunc\u001b[49m\u001b[43m(\u001b[49m\u001b[43m*\u001b[49m\u001b[43margs\u001b[49m\u001b[43m,\u001b[49m\u001b[43m \u001b[49m\u001b[43m*\u001b[49m\u001b[43m*\u001b[49m\u001b[43mkwargs\u001b[49m\u001b[43m)\u001b[49m\n\u001b[32m     72\u001b[39m     validate_dict(config_dict)\n\u001b[32m     73\u001b[39m     \u001b[38;5;28;01mreturn\u001b[39;00m config_dict\n",
      "\u001b[36mFile \u001b[39m\u001b[32m~/Documents/tech/ai-libraries/google-ads/google-ads-poc/.venv/lib/python3.13/site-packages/google/ads/googleads/config.py:89\u001b[39m, in \u001b[36m_config_parser_decorator.<locals>.parser_wrapper\u001b[39m\u001b[34m(*args, **kwargs)\u001b[39m\n\u001b[32m     87\u001b[39m \u001b[38;5;129m@functools\u001b[39m.wraps(func)\n\u001b[32m     88\u001b[39m \u001b[38;5;28;01mdef\u001b[39;00m\u001b[38;5;250m \u001b[39m\u001b[34mparser_wrapper\u001b[39m(*args, **kwargs):\n\u001b[32m---> \u001b[39m\u001b[32m89\u001b[39m     config_dict = \u001b[43mfunc\u001b[49m\u001b[43m(\u001b[49m\u001b[43m*\u001b[49m\u001b[43margs\u001b[49m\u001b[43m,\u001b[49m\u001b[43m \u001b[49m\u001b[43m*\u001b[49m\u001b[43m*\u001b[49m\u001b[43mkwargs\u001b[49m\u001b[43m)\u001b[49m\n\u001b[32m     90\u001b[39m     parsed_config = convert_login_customer_id_to_str(config_dict)\n\u001b[32m     91\u001b[39m     parsed_config = convert_linked_customer_id_to_str(parsed_config)\n",
      "\u001b[36mFile \u001b[39m\u001b[32m~/Documents/tech/ai-libraries/google-ads/google-ads-poc/.venv/lib/python3.13/site-packages/google/ads/googleads/config.py:273\u001b[39m, in \u001b[36mload_from_yaml_file\u001b[39m\u001b[34m(path)\u001b[39m\n\u001b[32m    270\u001b[39m \u001b[38;5;28;01mif\u001b[39;00m \u001b[38;5;129;01mnot\u001b[39;00m os.path.isabs(path):\n\u001b[32m    271\u001b[39m     path = os.path.expanduser(path)\n\u001b[32m--> \u001b[39m\u001b[32m273\u001b[39m \u001b[38;5;28;01mwith\u001b[39;00m \u001b[38;5;28;43mopen\u001b[39;49m\u001b[43m(\u001b[49m\u001b[43mpath\u001b[49m\u001b[43m,\u001b[49m\u001b[43m \u001b[49m\u001b[33;43m\"\u001b[39;49m\u001b[33;43mrb\u001b[39;49m\u001b[33;43m\"\u001b[39;49m\u001b[43m)\u001b[49m \u001b[38;5;28;01mas\u001b[39;00m handle:\n\u001b[32m    274\u001b[39m     yaml_doc = handle.read()\n\u001b[32m    276\u001b[39m \u001b[38;5;28;01mreturn\u001b[39;00m parse_yaml_document_to_dict(yaml_doc)\n",
      "\u001b[31mFileNotFoundError\u001b[39m: [Errno 2] No such file or directory: 'google-ads.yaml'"
     ]
    }
   ],
   "source": [
    "from google.ads.googleads.client import GoogleAdsClient\n",
    "from google.ads.googleads.errors import GoogleAdsException\n",
    "\n",
    "# Load credentials from google-ads.yaml\n",
    "client = GoogleAdsClient.load_from_storage(\"google-ads.yaml\")\n",
    "\n",
    "# Replace with your Google Ads customer ID\n",
    "customer_id = \"INSERT_CUSTOMER_ID_HERE\"\n",
    "\n",
    "# Define a simple GAQL query\n",
    "query = \"\"\"\n",
    "    SELECT\n",
    "        campaign.id,\n",
    "        campaign.name,\n",
    "        metrics.impressions,\n",
    "        metrics.clicks,\n",
    "        metrics.cost_micros\n",
    "    FROM campaign\n",
    "    WHERE segments.date DURING LAST_7_DAYS\n",
    "    ORDER BY metrics.clicks DESC\n",
    "    LIMIT 10\n",
    "\"\"\"\n",
    "\n",
    "try:\n",
    "    ga_service = client.get_service(\"GoogleAdsService\")\n",
    "    response = ga_service.search(customer_id=customer_id, query=query)\n",
    "\n",
    "    for row in response:\n",
    "        campaign = row.campaign\n",
    "        metrics = row.metrics\n",
    "        cost = metrics.cost_micros / 1_000_000  # Convert from micros to currency\n",
    "\n",
    "        print(\n",
    "            f\"Campaign '{campaign.name}' (ID: {campaign.id}) - \"\n",
    "            f\"Clicks: {metrics.clicks}, Impressions: {metrics.impressions}, Cost: {cost}\"\n",
    "        )\n",
    "\n",
    "except GoogleAdsException as ex:\n",
    "    print(\"Google Ads API request failed:\")\n",
    "    for error in ex.failure.errors:\n",
    "        print(f\"\\t{error.message}\")\n"
   ]
  }
 ],
 "metadata": {
  "kernelspec": {
   "display_name": ".venv (3.13.7)",
   "language": "python",
   "name": "python3"
  },
  "language_info": {
   "codemirror_mode": {
    "name": "ipython",
    "version": 3
   },
   "file_extension": ".py",
   "mimetype": "text/x-python",
   "name": "python",
   "nbconvert_exporter": "python",
   "pygments_lexer": "ipython3",
   "version": "3.13.7"
  }
 },
 "nbformat": 4,
 "nbformat_minor": 5
}
